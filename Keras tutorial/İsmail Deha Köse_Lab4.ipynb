{
 "cells": [
  {
   "cell_type": "markdown",
   "metadata": {
    "id": "dc0Em73MKM6-"
   },
   "source": [
    "# Keras Tutorial #\n",
    "# Convolutional Neural Networks"
   ]
  },
  {
   "cell_type": "markdown",
   "metadata": {
    "id": "FjjrvfDpKM7F"
   },
   "source": [
    "## Introduction\n",
    "\n",
    "In this tutorial, you are going to implement a simple Convolutional Neural Network in Keras.\n",
    "\n",
    "Convolutional Networks work by moving small filters across the input image. This means the filters are re-used for recognizing patterns throughout the entire input image. This makes the Convolutional Networks much more powerful than Fully Connected networks with the same number of variables. This in turn makes the Convolutional Networks faster to train."
   ]
  },
  {
   "cell_type": "markdown",
   "metadata": {
    "id": "DJNbGiCCbz4L"
   },
   "source": [
    "If you are using Google Colab, run the following cell to mount your Google Drive"
   ]
  },
  {
   "cell_type": "code",
   "execution_count": 1,
   "metadata": {
    "colab": {
     "base_uri": "https://localhost:8080/"
    },
    "executionInfo": {
     "elapsed": 1476,
     "status": "ok",
     "timestamp": 1608040451542,
     "user": {
      "displayName": "Marco Toldo",
      "photoUrl": "",
      "userId": "10123192063759507523"
     },
     "user_tz": -60
    },
    "id": "Q8sa5cl3LwY_",
    "outputId": "bece965f-3a7b-4c9c-c18d-e004d1a2c27e"
   },
   "outputs": [],
   "source": [
    "if 'google.colab' in str(get_ipython()):\n",
    "    print('Running on CoLab')\n",
    "    import os\n",
    "    from google.colab import drive\n",
    "    drive.mount('/content/drive')\n",
    "    predefined_path = 'drive/MyDrive'  \n",
    "    my_path = ''  # place the path to your notebook in Google Drive\n",
    "    os.chdir(os.path.join(predefined_path, my_path))"
   ]
  },
  {
   "cell_type": "markdown",
   "metadata": {
    "id": "7oVhJwKzKM7F"
   },
   "source": [
    "## Flowchart\n",
    "The following chart shows the structure of the Convolutional Neural Network implemented below.\n",
    "\n",
    "![](https://drive.google.com/uc?id=140yiEyYl4rr6_zLRzHzpnWqukOuQCh3j)\n",
    "\n",
    "The input image is processed in the first convolutional layer using the filter-weights. This results in 16 new images, one for each filter in the convolutional layer. The images are also downsampled thus reducing the image resolution from 28x28 to 14x14.\n",
    "\n",
    "These 16 smaller images are then processed in the second convolutional layer. We need filter-weights for each of these 16 channels, and we need filter-weights for each output channel of this layer. There are 36 output channels so there are a total of 16 x 36 = 576 filters in the second convolutional layer. The resulting images are downsampled again to 7x7 pixels.\n",
    "\n",
    "The output of the second convolutional layer is composed by 36 images of 7x7 pixels each. These are then flattened to a single vector of length 7 x 7 x 36 = 1764, which is used as the input to a fully connected layer with 128 neurons (or elements). This feeds into another fully connected layer with 10 neurons, one for each of the classes, which is used to determine the class of the image, that is, which number is depicted in the image.\n",
    "\n",
    "The convolutional filters are initially chosen at random, so the classification is done randomly. The error between the predicted and true class of the input image is measured using the cross-entropy. The optimizer then automatically propagates this error back through the Convolutional Network using the chain-rule of differentiation and updates the filter-weights so as to improve the classification error. This is done iteratively thousands of times until the classification error is sufficiently low.\n",
    "\n",
    "These particular filter-weights and intermediate images are the results of one optimization run and may look different if you re-run this Notebook.\n",
    "\n",
    "Note that the computation in Keras is actually done on a batch of images instead of a single image, which makes the computation more efficient. This means the flowchart actually has one more data-dimension when implemented in Keras."
   ]
  },
  {
   "cell_type": "markdown",
   "metadata": {
    "id": "zFgYa_8KKM7G"
   },
   "source": [
    "## Imports"
   ]
  },
  {
   "cell_type": "code",
   "execution_count": 2,
   "metadata": {
    "colab": {
     "base_uri": "https://localhost:8080/"
    },
    "executionInfo": {
     "elapsed": 4204,
     "status": "ok",
     "timestamp": 1608040454356,
     "user": {
      "displayName": "Marco Toldo",
      "photoUrl": "",
      "userId": "10123192063759507523"
     },
     "user_tz": -60
    },
    "id": "JTZTGQF9KM7G",
    "outputId": "e47ffdbe-0180-4a57-d8e5-0ea9cd18f77f"
   },
   "outputs": [],
   "source": [
    "# TensorFlow and tf.keras\n",
    "import tensorflow as tf\n",
    "from tensorflow import keras\n",
    "from tensorflow.math import confusion_matrix\n",
    "\n",
    "# if you have recent matplotlib versions it spamms deprecation warnings\n",
    "# these two lines remove the problem\n",
    "import warnings\n",
    "warnings.filterwarnings(\"ignore\", module = \"matplotlib\\..*\" )\n",
    "\n",
    "# Helper libraries\n",
    "import numpy as np\n",
    "import matplotlib.pyplot as plt\n",
    "import math\n",
    "#!pip list"
   ]
  },
  {
   "cell_type": "markdown",
   "metadata": {
    "id": "Z6reNslBKM7H"
   },
   "source": [
    "This was developed using Python 3.6 and TensorFlow version:"
   ]
  },
  {
   "cell_type": "code",
   "execution_count": 3,
   "metadata": {
    "colab": {
     "base_uri": "https://localhost:8080/",
     "height": 35
    },
    "executionInfo": {
     "elapsed": 4195,
     "status": "ok",
     "timestamp": 1608040454357,
     "user": {
      "displayName": "Marco Toldo",
      "photoUrl": "",
      "userId": "10123192063759507523"
     },
     "user_tz": -60
    },
    "id": "HbV0eZZDKM7H",
    "outputId": "bcc0c285-eb93-4e7f-dd43-abe6352e34ef"
   },
   "outputs": [
    {
     "data": {
      "text/plain": [
       "'2.4.1'"
      ]
     },
     "execution_count": 3,
     "metadata": {},
     "output_type": "execute_result"
    }
   ],
   "source": [
    "tf.__version__"
   ]
  },
  {
   "cell_type": "markdown",
   "metadata": {
    "id": "9dzPjevGKM7I"
   },
   "source": [
    "## Load Data"
   ]
  },
  {
   "cell_type": "markdown",
   "metadata": {
    "id": "-ZPKIGDGKM7I"
   },
   "source": [
    "We are going to use the fashion MNIST dataset as for the SVM and NN notebooks (compare the results!). It will be downloaded automatically if it is not located in the given path."
   ]
  },
  {
   "cell_type": "code",
   "execution_count": 4,
   "metadata": {
    "executionInfo": {
     "elapsed": 4491,
     "status": "ok",
     "timestamp": 1608040454663,
     "user": {
      "displayName": "Marco Toldo",
      "photoUrl": "",
      "userId": "10123192063759507523"
     },
     "user_tz": -60
    },
    "id": "4UTtAsx4KM7J"
   },
   "outputs": [],
   "source": [
    "mnist = keras.datasets.fashion_mnist\n",
    "(train_images, train_labels), (test_images, test_labels) = mnist.load_data()"
   ]
  },
  {
   "cell_type": "markdown",
   "metadata": {
    "id": "_yCxBG60KM7J"
   },
   "source": [
    "The MNIST dataset has now been loaded and consists of 70.000 images and class-numbers for the images. The dataset is split into 2 mutually exclusive sub-sets."
   ]
  },
  {
   "cell_type": "code",
   "execution_count": 5,
   "metadata": {
    "colab": {
     "base_uri": "https://localhost:8080/"
    },
    "executionInfo": {
     "elapsed": 4484,
     "status": "ok",
     "timestamp": 1608040454664,
     "user": {
      "displayName": "Marco Toldo",
      "photoUrl": "",
      "userId": "10123192063759507523"
     },
     "user_tz": -60
    },
    "id": "il-fPOB1KM7J",
    "outputId": "73b2a40f-8c2a-4fac-d310-a62d1eb21dc2"
   },
   "outputs": [
    {
     "name": "stdout",
     "output_type": "stream",
     "text": [
      "Size of:\n",
      "- Training-set:\t\t60000\n",
      "- Test-set:\t\t10000\n"
     ]
    }
   ],
   "source": [
    "print(\"Size of:\")\n",
    "print(\"- Training-set:\\t\\t{}\".format(train_images.shape[0]))\n",
    "print(\"- Test-set:\\t\\t{}\".format(test_images.shape[0]))"
   ]
  },
  {
   "cell_type": "markdown",
   "metadata": {
    "id": "zIgl4EfxKM7K"
   },
   "source": [
    "Each image contained in the dataset is represented in a vectorized (1D) form. We will reshape them to standard 2D images."
   ]
  },
  {
   "cell_type": "code",
   "execution_count": 6,
   "metadata": {
    "executionInfo": {
     "elapsed": 4482,
     "status": "ok",
     "timestamp": 1608040454664,
     "user": {
      "displayName": "Marco Toldo",
      "photoUrl": "",
      "userId": "10123192063759507523"
     },
     "user_tz": -60
    },
    "id": "8hdGfWSDKM7K"
   },
   "outputs": [],
   "source": [
    "# We know that MNIST images are composed by 28 pixels in each dimension.\n",
    "img_shape = 28\n",
    "\n",
    "# Reshape MNIST images \n",
    "train_images = train_images.reshape((-1, img_shape, img_shape, 1), order=\"F\")\n",
    "test_images = test_images.reshape((-1, img_shape, img_shape, 1), order=\"F\")"
   ]
  },
  {
   "cell_type": "markdown",
   "metadata": {
    "id": "Ob144g8xKM7K"
   },
   "source": [
    "The loaded images have values in the range [0; 255].\n",
    "We normalize them in the range [0; 1]."
   ]
  },
  {
   "cell_type": "code",
   "execution_count": 7,
   "metadata": {
    "executionInfo": {
     "elapsed": 4750,
     "status": "ok",
     "timestamp": 1608040454933,
     "user": {
      "displayName": "Marco Toldo",
      "photoUrl": "",
      "userId": "10123192063759507523"
     },
     "user_tz": -60
    },
    "id": "iIiqFQkzKM7K"
   },
   "outputs": [],
   "source": [
    "# Preprocessing\n",
    "train_images = train_images / 255.0\n",
    "test_images = test_images / 255.0"
   ]
  },
  {
   "cell_type": "markdown",
   "metadata": {
    "id": "b00LqQpTKM7K"
   },
   "source": [
    "### Label Encoding"
   ]
  },
  {
   "cell_type": "markdown",
   "metadata": {
    "id": "CbkS77GBKM7L"
   },
   "source": [
    "The class labels are stored as a list of integers ranging from 0 to 9. These are the numbers associated to the images. The $i-th$ element in train_labels is the label related to the $i-th$ image in train_images (train_images[i]). test_images and test_labels have a similar structure."
   ]
  },
  {
   "cell_type": "code",
   "execution_count": 8,
   "metadata": {
    "colab": {
     "base_uri": "https://localhost:8080/"
    },
    "executionInfo": {
     "elapsed": 4743,
     "status": "ok",
     "timestamp": 1608040454934,
     "user": {
      "displayName": "Marco Toldo",
      "photoUrl": "",
      "userId": "10123192063759507523"
     },
     "user_tz": -60
    },
    "id": "_Yf9LPPPKM7L",
    "outputId": "7216b060-b872-408b-c2aa-a92e11082315"
   },
   "outputs": [
    {
     "data": {
      "text/plain": [
       "array([9, 0, 0, 3, 0], dtype=uint8)"
      ]
     },
     "execution_count": 8,
     "metadata": {},
     "output_type": "execute_result"
    }
   ],
   "source": [
    "# Number of classes and relative names\n",
    "num_classes = 10\n",
    "class_names = ['Tsh.', 'Trous.', 'Pull.', 'Dress', 'Coat', 'Sandal', 'Shirt', 'Sneak.', 'Bag', 'A.boot']\n",
    "\n",
    "train_labels[0:5]"
   ]
  },
  {
   "cell_type": "markdown",
   "metadata": {
    "id": "a34elJ15KM7L"
   },
   "source": [
    "### Helper-function for plotting images"
   ]
  },
  {
   "cell_type": "markdown",
   "metadata": {
    "id": "8HFgC9FcKM7M"
   },
   "source": [
    "Function used to plot 9 images in a 3x3 grid, and writing the true and predicted classes below each image."
   ]
  },
  {
   "cell_type": "code",
   "execution_count": 9,
   "metadata": {
    "executionInfo": {
     "elapsed": 4742,
     "status": "ok",
     "timestamp": 1608040454935,
     "user": {
      "displayName": "Marco Toldo",
      "photoUrl": "",
      "userId": "10123192063759507523"
     },
     "user_tz": -60
    },
    "id": "vt2WrhD3KM7M"
   },
   "outputs": [],
   "source": [
    "def plot_images(images, labels, predictions=None):\n",
    "    assert len(images) == len(labels) == 9\n",
    "    # Create figure with 3x3 sub-plots.\n",
    "    fig, axes = plt.subplots(3, 3)\n",
    "    fig.subplots_adjust(hspace=0.3, wspace=0.3)\n",
    "    for i, ax in enumerate(axes.flat):\n",
    "        # Plot image.\n",
    "        ax.imshow(images[i].squeeze(), cmap='binary')\n",
    "        # Show true and predicted classes.\n",
    "        if predictions is None:\n",
    "            xlabel = \"True: {0}\".format(class_names[labels[i]])\n",
    "        else:\n",
    "            xlabel = \"True: {0}, Pred: {1}\".format(class_names[labels[i]], class_names[predictions[i]])\n",
    "        ax.set_xlabel(xlabel)\n",
    "        # Remove ticks from the plot.\n",
    "        ax.set_xticks([])\n",
    "        ax.set_yticks([])\n",
    "    # Ensure the plot is shown correctly with multiple plots\n",
    "    # in a single Notebook cell.\n",
    "    plt.show()"
   ]
  },
  {
   "cell_type": "markdown",
   "metadata": {
    "id": "e79797TqKM7M"
   },
   "source": [
    "### Plot a few images to see if data is correct"
   ]
  },
  {
   "cell_type": "code",
   "execution_count": 10,
   "metadata": {
    "colab": {
     "base_uri": "https://localhost:8080/",
     "height": 262
    },
    "executionInfo": {
     "elapsed": 5154,
     "status": "ok",
     "timestamp": 1608040455357,
     "user": {
      "displayName": "Marco Toldo",
      "photoUrl": "",
      "userId": "10123192063759507523"
     },
     "user_tz": -60
    },
    "id": "upCk8EWUKM7M",
    "outputId": "b671cd93-f553-4fc4-8825-9b13cbf9eafd"
   },
   "outputs": [
    {
     "data": {
      "image/png": "[encoded data removed]",
      "text/plain": [
       "<Figure size 432x288 with 9 Axes>"
      ]
     },
     "metadata": {},
     "output_type": "display_data"
    }
   ],
   "source": [
    "# Get the first images from the test-set.\n",
    "images = test_images[0:9]\n",
    "\n",
    "# Get the true classes for those images.\n",
    "cls_true = test_labels[0:9]\n",
    "\n",
    "# Plot the images and labels using our helper-function above.\n",
    "plot_images(images=images, labels=cls_true)"
   ]
  },
  {
   "cell_type": "markdown",
   "metadata": {
    "id": "eSKohGgWKM7N"
   },
   "source": [
    "## Build the Classification Model\n",
    "\n",
    "Building the neural network requires configuring the layers of the model, then compiling it."
   ]
  },
  {
   "cell_type": "markdown",
   "metadata": {
    "id": "VahgzUwpKM7N"
   },
   "source": [
    "### Input Tensor\n",
    "\n",
    "First, we allocate a Keras tensor that is going to contain the input data.\n",
    "\n",
    "The input is assumed to be a 3D tensor of shape [num_images, num_inputs, 1].\n",
    "The third dimension is 1 because we are dealing with grayscale images. It would be 3 for a color image."
   ]
  },
  {
   "cell_type": "code",
   "execution_count": 11,
   "metadata": {
    "executionInfo": {
     "elapsed": 5153,
     "status": "ok",
     "timestamp": 1608040455358,
     "user": {
      "displayName": "Marco Toldo",
      "photoUrl": "",
      "userId": "10123192063759507523"
     },
     "user_tz": -60
    },
    "id": "fUREOxMVKM7N"
   },
   "outputs": [],
   "source": [
    "input = keras.layers.Input(shape=(img_shape, img_shape,1), name='input0')"
   ]
  },
  {
   "cell_type": "markdown",
   "metadata": {
    "id": "dQ6L31qzKM7N"
   },
   "source": [
    "### Setup the Layers\n",
    "The presented neural network is composed by 2 convolutional layers, each one followed by a 2x2 max pooling layer, and 2 fully connected (dense) layers.\n",
    "\n",
    "Here, it is possible to change some parameters related to the layers."
   ]
  },
  {
   "cell_type": "code",
   "execution_count": 12,
   "metadata": {
    "executionInfo": {
     "elapsed": 5152,
     "status": "ok",
     "timestamp": 1608040455359,
     "user": {
      "displayName": "Marco Toldo",
      "photoUrl": "",
      "userId": "10123192063759507523"
     },
     "user_tz": -60
    },
    "id": "qC7gJdEHKM7O"
   },
   "outputs": [],
   "source": [
    "# Convolutional Layer 1.\n",
    "kernel_size1 = 5          # Convolution filters are 5 x 5 pixels.\n",
    "num_filters1 = 32         # There are 16 of these filters.\n",
    "\n",
    "# Convolutional Layer 2.\n",
    "filter_size2 = 5          # Convolution filters are 5 x 5 pixels.\n",
    "num_filters2 = 128         # There are 36 of these filters.\n",
    "\n",
    "# Fully connected layer.\n",
    "fc_size = 256            # Number of neurons in fully-connected layer.\n",
    "\n",
    "# The output fully connected layer is composed by 10 neurons as the number of classes we are goig to use"
   ]
  },
  {
   "cell_type": "markdown",
   "metadata": {
    "id": "jc_S_K_9KM7O"
   },
   "source": [
    "Now, we can start to setup our network.\n",
    "\n",
    "The first layer that we are going to add is a convolution layer. This is going to be applied on the `input` tensor.\n",
    "It is composed by `num_filters1` different filters, each having width and height equal to `kernel_size1`."
   ]
  },
  {
   "cell_type": "code",
   "execution_count": 13,
   "metadata": {
    "executionInfo": {
     "elapsed": 6012,
     "status": "ok",
     "timestamp": 1608040456227,
     "user": {
      "displayName": "Marco Toldo",
      "photoUrl": "",
      "userId": "10123192063759507523"
     },
     "user_tz": -60
    },
    "id": "zouSecDvKM7O"
   },
   "outputs": [],
   "source": [
    "conv1 = keras.layers.Conv2D(filters = num_filters1, kernel_size=kernel_size1, strides=(1, 1), padding='same', \n",
    "                            data_format='channels_last',activation=tf.nn.relu, use_bias=True,\n",
    "                            kernel_initializer='glorot_uniform', bias_initializer='zeros', name='conv1')(input)"
   ]
  },
  {
   "cell_type": "markdown",
   "metadata": {
    "id": "v29ow-2MKM7P"
   },
   "source": [
    "<img src=\"https://drive.google.com/uc?id=11Aa-ZgxGxqFEX-zI1j9Sp-TZdEcUTFfM\" alt=\"Drawing\" style=\"width: 600px;\"/>\n",
    "\n",
    "Then, we wish to downsample the image so it is half the size by using 2x2 max pooling.\n",
    "\n",
    "In this way we reduce the training complexity."
   ]
  },
  {
   "cell_type": "code",
   "execution_count": 14,
   "metadata": {
    "executionInfo": {
     "elapsed": 6011,
     "status": "ok",
     "timestamp": 1608040456228,
     "user": {
      "displayName": "Marco Toldo",
      "photoUrl": "",
      "userId": "10123192063759507523"
     },
     "user_tz": -60
    },
    "id": "k2Pk7AFZKM7P"
   },
   "outputs": [],
   "source": [
    "pool1 = keras.layers.MaxPooling2D(pool_size=(2, 2), strides=None, padding='valid', \n",
    "                                  data_format='channels_last', name='pool1')(conv1)"
   ]
  },
  {
   "cell_type": "markdown",
   "metadata": {
    "id": "xk9zNuhaKM7P"
   },
   "source": [
    "<img src=\"https://drive.google.com/uc?id=1eT2oHTThs8_Jn0yrd9EpNQ-0opmg0Q_V\" alt=\"Drawing\" style=\"width: 600px;\"/>\n",
    "\n",
    "Similarly, we build a second set of convolutional and pooling layers.\n",
    "\n",
    "These are going to be applied on the output of the first pooling layer."
   ]
  },
  {
   "cell_type": "code",
   "execution_count": 15,
   "metadata": {
    "executionInfo": {
     "elapsed": 6009,
     "status": "ok",
     "timestamp": 1608040456228,
     "user": {
      "displayName": "Marco Toldo",
      "photoUrl": "",
      "userId": "10123192063759507523"
     },
     "user_tz": -60
    },
    "id": "WV4EJx_CKM7P"
   },
   "outputs": [],
   "source": [
    "# Second convolutional layer\n",
    "conv2 = keras.layers.Conv2D(filters = num_filters2, kernel_size=filter_size2, strides=(1, 1), padding='same', \n",
    "                            data_format='channels_last', activation=tf.nn.relu, input_shape=(img_shape, img_shape),\n",
    "                            use_bias=True, kernel_initializer='glorot_uniform', bias_initializer='zeros', name='conv2')(pool1)\n",
    "# It is followed by a 2x2 pooling layer\n",
    "pool2 = keras.layers.MaxPooling2D(pool_size=(2, 2), strides=None, padding='valid', data_format='channels_last', name='pool2')(conv2)"
   ]
  },
  {
   "cell_type": "markdown",
   "metadata": {
    "id": "nv69RMcjKM7P"
   },
   "source": [
    "The convolutional layers output 3D tensors. We now wish to use these as input in a fully connected network, which requires for the tensors to be reshaped or flattened to vector.\n",
    "\n",
    "`tf.keras.layers.Flatten` transforms the format of its input from a 3D tensor ( [7, 7, 36] ), to a 1D array of 7 x 7 x 36 = 1764 elements. Think of this layer as unstacking rows of pixels in the image and lining them up. This layer has no parameters to learn; it only reformats the data."
   ]
  },
  {
   "cell_type": "code",
   "execution_count": 16,
   "metadata": {
    "executionInfo": {
     "elapsed": 6009,
     "status": "ok",
     "timestamp": 1608040456229,
     "user": {
      "displayName": "Marco Toldo",
      "photoUrl": "",
      "userId": "10123192063759507523"
     },
     "user_tz": -60
    },
    "id": "kVu0zY-zKM7Q"
   },
   "outputs": [],
   "source": [
    "flat = keras.layers.Flatten()(pool2)"
   ]
  },
  {
   "cell_type": "markdown",
   "metadata": {
    "id": "DKtc7fYDKM7Q"
   },
   "source": [
    "Add a fully connected layer to the network. The input is the flattened layer from the previous convolution. The number of neurons in the fully-connected layer is `fc_size`. ReLU is used so we can learn non-linear relations."
   ]
  },
  {
   "cell_type": "code",
   "execution_count": 17,
   "metadata": {
    "executionInfo": {
     "elapsed": 6006,
     "status": "ok",
     "timestamp": 1608040456229,
     "user": {
      "displayName": "Marco Toldo",
      "photoUrl": "",
      "userId": "10123192063759507523"
     },
     "user_tz": -60
    },
    "id": "qRNstGeLKM7Q"
   },
   "outputs": [],
   "source": [
    "fc1 = keras.layers.Dense(fc_size, activation=tf.nn.relu, \n",
    "                         kernel_initializer='glorot_uniform', bias_initializer='zeros', name='fc1')(flat)"
   ]
  },
  {
   "cell_type": "markdown",
   "metadata": {
    "id": "O6uYzkeLKM7R"
   },
   "source": [
    "<img src=\"https://drive.google.com/uc?id=10Tdxdn4nElZ_wGY9-q_LanTxZdNXHopw\" alt=\"Drawing\" style=\"width: 300px;\"/>\n",
    "\n",
    "Add another fully connected layer that outputs vectors of length 10 for determining which of the 10 classes the input image belongs to. Note that ReLU is not used in this layer. We are using the `softmax` here."
   ]
  },
  {
   "cell_type": "code",
   "execution_count": 18,
   "metadata": {
    "executionInfo": {
     "elapsed": 6005,
     "status": "ok",
     "timestamp": 1608040456230,
     "user": {
      "displayName": "Marco Toldo",
      "photoUrl": "",
      "userId": "10123192063759507523"
     },
     "user_tz": -60
    },
    "id": "NevsIKgcKM7R"
   },
   "outputs": [],
   "source": [
    "output = keras.layers.Dense(num_classes, activation=tf.nn.softmax, \n",
    "                            kernel_initializer='glorot_uniform', bias_initializer='zeros', name='fc2')(fc1)"
   ]
  },
  {
   "cell_type": "markdown",
   "metadata": {
    "id": "czDFYxy1KM7R"
   },
   "source": [
    "Finally, we build the Keras model by specifing the `input` tensor and the output of the last layer, `output`."
   ]
  },
  {
   "cell_type": "code",
   "execution_count": 19,
   "metadata": {
    "executionInfo": {
     "elapsed": 6004,
     "status": "ok",
     "timestamp": 1608040456230,
     "user": {
      "displayName": "Marco Toldo",
      "photoUrl": "",
      "userId": "10123192063759507523"
     },
     "user_tz": -60
    },
    "id": "vKSx6dtQKM7T"
   },
   "outputs": [],
   "source": [
    "model = keras.models.Model(inputs=[input], outputs=[output])"
   ]
  },
  {
   "cell_type": "markdown",
   "metadata": {
    "id": "3fcYnVG_IZ1l"
   },
   "source": [
    "To load pre-trained model weights from a previous training of the same model, use the `model.load_weights()` function."
   ]
  },
  {
   "cell_type": "code",
   "execution_count": 20,
   "metadata": {
    "executionInfo": {
     "elapsed": 6003,
     "status": "ok",
     "timestamp": 1608040456231,
     "user": {
      "displayName": "Marco Toldo",
      "photoUrl": "",
      "userId": "10123192063759507523"
     },
     "user_tz": -60
    },
    "id": "AtbTxUeUD_kB"
   },
   "outputs": [],
   "source": [
    "load_path = ''\n",
    "if load_path:\n",
    "    model.load_weights(load_path)\n",
    "    print('Load trained weights from {}'.format(load_path))"
   ]
  },
  {
   "cell_type": "markdown",
   "metadata": {
    "id": "kj8YzTwHKM7T"
   },
   "source": [
    "We can also show the structure of the network by using the `summary()` method on the `model`. Notice how the largest part of the parameters is in the fully connected layer."
   ]
  },
  {
   "cell_type": "code",
   "execution_count": 21,
   "metadata": {
    "colab": {
     "base_uri": "https://localhost:8080/"
    },
    "executionInfo": {
     "elapsed": 5994,
     "status": "ok",
     "timestamp": 1608040456231,
     "user": {
      "displayName": "Marco Toldo",
      "photoUrl": "",
      "userId": "10123192063759507523"
     },
     "user_tz": -60
    },
    "id": "fGlXLTv0KM7T",
    "outputId": "71fc39a1-c549-452f-ee05-c5eb10eac090"
   },
   "outputs": [
    {
     "name": "stdout",
     "output_type": "stream",
     "text": [
      "Model: \"model\"\n",
      "_________________________________________________________________\n",
      "Layer (type)                 Output Shape              Param #   \n",
      "=================================================================\n",
      "input0 (InputLayer)          [(None, 28, 28, 1)]       0         \n",
      "_________________________________________________________________\n",
      "conv1 (Conv2D)               (None, 28, 28, 32)        832       \n",
      "_________________________________________________________________\n",
      "pool1 (MaxPooling2D)         (None, 14, 14, 32)        0         \n",
      "_________________________________________________________________\n",
      "conv2 (Conv2D)               (None, 14, 14, 128)       102528    \n",
      "_________________________________________________________________\n",
      "pool2 (MaxPooling2D)         (None, 7, 7, 128)         0         \n",
      "_________________________________________________________________\n",
      "flatten (Flatten)            (None, 6272)              0         \n",
      "_________________________________________________________________\n",
      "fc1 (Dense)                  (None, 256)               1605888   \n",
      "_________________________________________________________________\n",
      "fc2 (Dense)                  (None, 10)                2570      \n",
      "=================================================================\n",
      "Total params: 1,711,818\n",
      "Trainable params: 1,711,818\n",
      "Non-trainable params: 0\n",
      "_________________________________________________________________\n"
     ]
    }
   ],
   "source": [
    "model.summary()"
   ]
  },
  {
   "cell_type": "markdown",
   "metadata": {
    "id": "BsdhczrZKM7T"
   },
   "source": [
    "### Compile the Model"
   ]
  },
  {
   "cell_type": "markdown",
   "metadata": {
    "id": "RZorEzGgKM7T"
   },
   "source": [
    "Before the model is ready for training, it needs a few more settings. These are added during the model's compile step:\n",
    "* 'Loss function' — This measures how accurate the model is during training. We want to minimize this function to \"steer\" the model in the right direction.\n",
    "* 'Metrics' — Used to monitor the training and testing steps. The following example uses accuracy, the fraction of the images that are correctly classified.\n",
    "* 'Optimizer' — This is how the model is updated based on the data it sees and its loss function."
   ]
  },
  {
   "cell_type": "code",
   "execution_count": 22,
   "metadata": {
    "executionInfo": {
     "elapsed": 5992,
     "status": "ok",
     "timestamp": 1608040456231,
     "user": {
      "displayName": "Marco Toldo",
      "photoUrl": "",
      "userId": "10123192063759507523"
     },
     "user_tz": -60
    },
    "id": "Vg7DpQU_KM7U"
   },
   "outputs": [],
   "source": [
    "adam = keras.optimizers.Adam(lr=0.001, beta_1=0.9, beta_2=0.999)"
   ]
  },
  {
   "cell_type": "code",
   "execution_count": 23,
   "metadata": {
    "executionInfo": {
     "elapsed": 5992,
     "status": "ok",
     "timestamp": 1608040456232,
     "user": {
      "displayName": "Marco Toldo",
      "photoUrl": "",
      "userId": "10123192063759507523"
     },
     "user_tz": -60
    },
    "id": "KxqatuGaKM7U"
   },
   "outputs": [],
   "source": [
    "model.compile(optimizer=adam,\n",
    "              loss='sparse_categorical_crossentropy',\n",
    "              metrics=['accuracy'])"
   ]
  },
  {
   "cell_type": "markdown",
   "metadata": {
    "id": "jZYNE5tAKM7U"
   },
   "source": [
    "### Train the Model"
   ]
  },
  {
   "cell_type": "markdown",
   "metadata": {
    "id": "yn5EJCDEKM7U"
   },
   "source": [
    "Training the neural network model requires the following steps:\n",
    "\n",
    "1. Feed the training data to the model. In this example, the `train_images` and `train_labels` arrays.\n",
    "2. The model learns to associate images and labels.\n",
    "3. We ask the model to make predictions about a test set. In this example, the `test_images` array. We verify that the predictions match the labels from the `test_labels` array.\n",
    "\n",
    "To start training, call the `model.fit()` method. The model is \"fit\" to the training data:"
   ]
  },
  {
   "cell_type": "code",
   "execution_count": 24,
   "metadata": {
    "colab": {
     "base_uri": "https://localhost:8080/"
    },
    "executionInfo": {
     "elapsed": 147458,
     "status": "ok",
     "timestamp": 1608040597706,
     "user": {
      "displayName": "Marco Toldo",
      "photoUrl": "",
      "userId": "10123192063759507523"
     },
     "user_tz": -60
    },
    "id": "Op4a1C8BKM7U",
    "outputId": "cd3f87b8-d357-4c84-e107-28c8ba7c7b89"
   },
   "outputs": [
    {
     "name": "stdout",
     "output_type": "stream",
     "text": [
      "Epoch 1/25\n",
      "375/375 [==============================] - 8s 14ms/step - loss: 0.7017 - accuracy: 0.7482 - val_loss: 0.3319 - val_accuracy: 0.8817\n",
      "Epoch 2/25\n",
      "375/375 [==============================] - 4s 11ms/step - loss: 0.3098 - accuracy: 0.8867 - val_loss: 0.2810 - val_accuracy: 0.9003\n",
      "Epoch 3/25\n",
      "375/375 [==============================] - 4s 11ms/step - loss: 0.2540 - accuracy: 0.9083 - val_loss: 0.2561 - val_accuracy: 0.9035\n",
      "Epoch 4/25\n",
      "375/375 [==============================] - 4s 11ms/step - loss: 0.2124 - accuracy: 0.9221 - val_loss: 0.2514 - val_accuracy: 0.9039\n",
      "Epoch 5/25\n",
      "375/375 [==============================] - 4s 11ms/step - loss: 0.1850 - accuracy: 0.9331 - val_loss: 0.2492 - val_accuracy: 0.9127\n",
      "Epoch 6/25\n",
      "375/375 [==============================] - 4s 11ms/step - loss: 0.1600 - accuracy: 0.9411 - val_loss: 0.2305 - val_accuracy: 0.9135\n",
      "Epoch 7/25\n",
      "375/375 [==============================] - 4s 11ms/step - loss: 0.1373 - accuracy: 0.9493 - val_loss: 0.2531 - val_accuracy: 0.9162\n",
      "Epoch 8/25\n",
      "375/375 [==============================] - 4s 11ms/step - loss: 0.1194 - accuracy: 0.9558 - val_loss: 0.2423 - val_accuracy: 0.9181\n",
      "Epoch 9/25\n",
      "375/375 [==============================] - 4s 11ms/step - loss: 0.1047 - accuracy: 0.9613 - val_loss: 0.2636 - val_accuracy: 0.9166\n",
      "Epoch 10/25\n",
      "375/375 [==============================] - 4s 11ms/step - loss: 0.0863 - accuracy: 0.9670 - val_loss: 0.2691 - val_accuracy: 0.9063\n",
      "Epoch 11/25\n",
      "375/375 [==============================] - 4s 11ms/step - loss: 0.0753 - accuracy: 0.9717 - val_loss: 0.2587 - val_accuracy: 0.9231\n",
      "Epoch 12/25\n",
      "375/375 [==============================] - 4s 11ms/step - loss: 0.0607 - accuracy: 0.9784 - val_loss: 0.2912 - val_accuracy: 0.9117\n",
      "Epoch 13/25\n",
      "375/375 [==============================] - 4s 11ms/step - loss: 0.0470 - accuracy: 0.9834 - val_loss: 0.2847 - val_accuracy: 0.9206\n",
      "Epoch 14/25\n",
      "375/375 [==============================] - 4s 11ms/step - loss: 0.0394 - accuracy: 0.9861 - val_loss: 0.3192 - val_accuracy: 0.9137\n",
      "Epoch 15/25\n",
      "375/375 [==============================] - 4s 11ms/step - loss: 0.0363 - accuracy: 0.9879 - val_loss: 0.3385 - val_accuracy: 0.9168\n",
      "Epoch 16/25\n",
      "375/375 [==============================] - 4s 11ms/step - loss: 0.0282 - accuracy: 0.9901 - val_loss: 0.3480 - val_accuracy: 0.9132\n",
      "Epoch 17/25\n",
      "375/375 [==============================] - 4s 11ms/step - loss: 0.0292 - accuracy: 0.9901 - val_loss: 0.3620 - val_accuracy: 0.9203\n",
      "Epoch 18/25\n",
      "375/375 [==============================] - 4s 11ms/step - loss: 0.0234 - accuracy: 0.9922 - val_loss: 0.3392 - val_accuracy: 0.9195\n",
      "Epoch 19/25\n",
      "375/375 [==============================] - 4s 11ms/step - loss: 0.0260 - accuracy: 0.9909 - val_loss: 0.3850 - val_accuracy: 0.9190\n",
      "Epoch 20/25\n",
      "375/375 [==============================] - 4s 11ms/step - loss: 0.0218 - accuracy: 0.9923 - val_loss: 0.4233 - val_accuracy: 0.9166\n",
      "Epoch 21/25\n",
      "375/375 [==============================] - 4s 11ms/step - loss: 0.0152 - accuracy: 0.9949 - val_loss: 0.4322 - val_accuracy: 0.9195\n",
      "Epoch 22/25\n",
      "375/375 [==============================] - 4s 11ms/step - loss: 0.0167 - accuracy: 0.9947 - val_loss: 0.4134 - val_accuracy: 0.9156\n",
      "Epoch 23/25\n",
      "375/375 [==============================] - 4s 11ms/step - loss: 0.0236 - accuracy: 0.9919 - val_loss: 0.4536 - val_accuracy: 0.9215\n",
      "Epoch 24/25\n",
      "375/375 [==============================] - 4s 11ms/step - loss: 0.0144 - accuracy: 0.9954 - val_loss: 0.4975 - val_accuracy: 0.9216\n",
      "Epoch 25/25\n",
      "375/375 [==============================] - 4s 11ms/step - loss: 0.0126 - accuracy: 0.9953 - val_loss: 0.4911 - val_accuracy: 0.9203\n"
     ]
    }
   ],
   "source": [
    "history = model.fit(train_images, train_labels, \n",
    "                    batch_size = 128, epochs=25, validation_split = 0.2)"
   ]
  },
  {
   "cell_type": "markdown",
   "metadata": {
    "id": "HOpN92u8KM7V"
   },
   "source": [
    "As the model trains, the loss and accuracy metrics are displayed. \n",
    "Pay attention at the use of `validation_split` to fix the ratio of the training set used as validation set."
   ]
  },
  {
   "cell_type": "markdown",
   "metadata": {
    "id": "gf-S9JCoGY92"
   },
   "source": [
    "We can retrieve loss and accuracy values directly from the output of `model.fit()` and plot them to check the training progress over the epochs."
   ]
  },
  {
   "cell_type": "code",
   "execution_count": 25,
   "metadata": {
    "colab": {
     "base_uri": "https://localhost:8080/",
     "height": 367
    },
    "executionInfo": {
     "elapsed": 147862,
     "status": "ok",
     "timestamp": 1608040598119,
     "user": {
      "displayName": "Marco Toldo",
      "photoUrl": "",
      "userId": "10123192063759507523"
     },
     "user_tz": -60
    },
    "id": "_mih-HXu8Quq",
    "outputId": "aede5a5d-76a8-42b7-b92e-93cfe11dad38"
   },
   "outputs": [
    {
     "name": "stdout",
     "output_type": "stream",
     "text": [
      "History data: loss, accuracy, val_loss, val_accuracy\n"
     ]
    },
    {
     "data": {
      "image/png": "[encoded data removed]",
      "text/plain": [
       "<Figure size 1080x360 with 2 Axes>"
      ]
     },
     "metadata": {
      "needs_background": "light"
     },
     "output_type": "display_data"
    }
   ],
   "source": [
    "fig, axes = plt.subplots(1, 2, figsize=(15,5))\n",
    "\n",
    "\n",
    "print('History data: '+', '.join(history.history.keys()))\n",
    "key_list = list(history.history.keys())\n",
    "\n",
    "axes[0].plot(history.history[key_list[2]], label=key_list[2])\n",
    "axes[0].plot(history.history[key_list[0]], label='train_' + key_list[0])\n",
    "axes[0].grid('on')\n",
    "axes[0].set_title('Loss')\n",
    "axes[0].set_xlabel('Epoch')\n",
    "axes[0].legend()\n",
    "\n",
    "axes[1].plot(history.history[key_list[3]], label=key_list[3])\n",
    "axes[1].plot(history.history[key_list[1]], label='train_' + key_list[1])\n",
    "axes[1].grid('on')\n",
    "axes[1].set_title('Accuracy')\n",
    "axes[1].set_xlabel('Epoch')\n",
    "axes[1].legend()\n",
    "\n",
    "plt.show()"
   ]
  },
  {
   "cell_type": "markdown",
   "metadata": {
    "id": "TXx7CUM2HdCX"
   },
   "source": [
    "To save the model weights after training, use the `model.save_weights()` function."
   ]
  },
  {
   "cell_type": "code",
   "execution_count": 26,
   "metadata": {
    "colab": {
     "base_uri": "https://localhost:8080/"
    },
    "executionInfo": {
     "elapsed": 148069,
     "status": "ok",
     "timestamp": 1608040598337,
     "user": {
      "displayName": "Marco Toldo",
      "photoUrl": "",
      "userId": "10123192063759507523"
     },
     "user_tz": -60
    },
    "id": "frI2yDosB_Ye",
    "outputId": "f8fb4346-8f15-4dd4-ad03-9579d36a59a8"
   },
   "outputs": [
    {
     "name": "stdout",
     "output_type": "stream",
     "text": [
      "Saved trained weights at log/model_ep25\n"
     ]
    }
   ],
   "source": [
    "save_path = 'log/model_ep{}'.format(len(history.history['loss']))\n",
    "if save_path:\n",
    "    model.save_weights(save_path)\n",
    "    print('Saved trained weights at {}'.format(save_path))"
   ]
  },
  {
   "cell_type": "markdown",
   "metadata": {
    "id": "RIF3cn0vKM7V"
   },
   "source": [
    "### Helper-functions to show performance"
   ]
  },
  {
   "cell_type": "code",
   "execution_count": 27,
   "metadata": {
    "executionInfo": {
     "elapsed": 148067,
     "status": "ok",
     "timestamp": 1608040598337,
     "user": {
      "displayName": "Marco Toldo",
      "photoUrl": "",
      "userId": "10123192063759507523"
     },
     "user_tz": -60
    },
    "id": "vNzwtzePKM7V"
   },
   "outputs": [],
   "source": [
    "def print_confusion_matrix(model, images, labels):\n",
    "    num_classes = 10\n",
    "    # Get the predicted classifications for the test-set.\n",
    "    predictions = model.predict(images)\n",
    "    # Get the true classifications for the test-set.\n",
    "\n",
    "    # Get the confusion matrix using sklearn.\n",
    "    cm = tf.math.confusion_matrix(labels, np.argmax(predictions,axis=1))\n",
    "    # Print the confusion matrix as text.\n",
    "    print(cm)\n",
    "    # Plot the confusion matrix as an image.\n",
    "    plt.imshow(cm, interpolation='nearest', cmap=plt.cm.Blues)\n",
    "    # Make various adjustments to the plot.\n",
    "    plt.tight_layout()\n",
    "    plt.colorbar()\n",
    "    tick_marks = np.arange(num_classes)\n",
    "    plt.xticks(tick_marks, class_names, rotation=45)\n",
    "    plt.yticks(tick_marks, class_names, rotation=0)\n",
    "    plt.ylim(num_classes-0.5,-0.5)\n",
    "    plt.xlabel('Predicted')\n",
    "    plt.ylabel('True')\n",
    "    # Ensure the plot is shown correctly with multiple plots\n",
    "    # in a single Notebook cell.\n",
    "    plt.show()"
   ]
  },
  {
   "cell_type": "markdown",
   "metadata": {
    "id": "xxiUDbWgKM7V"
   },
   "source": [
    "Function for plotting examples of images from the test set that have been mis-classified."
   ]
  },
  {
   "cell_type": "code",
   "execution_count": 28,
   "metadata": {
    "executionInfo": {
     "elapsed": 148066,
     "status": "ok",
     "timestamp": 1608040598338,
     "user": {
      "displayName": "Marco Toldo",
      "photoUrl": "",
      "userId": "10123192063759507523"
     },
     "user_tz": -60
    },
    "id": "NZa1IXLhKM7V"
   },
   "outputs": [],
   "source": [
    "def plot_example_errors(model, images, labels):\n",
    "    # Get the predicted classifications for the test-set.\n",
    "    predictions = model.predict(images)\n",
    "\n",
    "    predictions_in = np.argmax(predictions, axis=1)\n",
    "    correct = (predictions_in == labels)\n",
    "\n",
    "    # Negate the boolean array.\n",
    "    incorrect = (correct == False)\n",
    "    # Get the images from the test-set that have been\n",
    "    # incorrectly classified.\n",
    "    images = images[incorrect]\n",
    "    # Get the predicted classes for those images.\n",
    "    cls_pred = predictions_in[incorrect]\n",
    "    # Get the true classes for those images.\n",
    "    cls_true = labels[incorrect]\n",
    "    # Plot the first 9 images.\n",
    "    plot_images(images=images[0:9],\n",
    "    labels=cls_true[0:9],\n",
    "    predictions=cls_pred[0:9])"
   ]
  },
  {
   "cell_type": "markdown",
   "metadata": {
    "id": "nvFVgNJMKM7V"
   },
   "source": [
    "## Performance after 5 epochs\n",
    "\n",
    "After 5 epochs, the model only mis-classifies about one in 100 images. As demonstrated below, some of the mis-classifications are justified because the images are very hard to determine with certainty even for humans, while few examples are quite obvious but nevertheless the proposed 4-layer network fails. "
   ]
  },
  {
   "cell_type": "code",
   "execution_count": 29,
   "metadata": {
    "colab": {
     "base_uri": "https://localhost:8080/"
    },
    "executionInfo": {
     "elapsed": 148943,
     "status": "ok",
     "timestamp": 1608040599224,
     "user": {
      "displayName": "Marco Toldo",
      "photoUrl": "",
      "userId": "10123192063759507523"
     },
     "user_tz": -60
    },
    "id": "iKt2Tg26KM7V",
    "outputId": "016cac48-f1d1-4d16-830b-e34b23a7c3ab"
   },
   "outputs": [
    {
     "name": "stdout",
     "output_type": "stream",
     "text": [
      "313/313 [==============================] - 2s 4ms/step - loss: 0.5113 - accuracy: 0.9204\n",
      "Test accuracy: 0.9204000234603882\n"
     ]
    }
   ],
   "source": [
    "test_loss, test_acc = model.evaluate(test_images, test_labels)\n",
    "print('Test accuracy:', test_acc)"
   ]
  },
  {
   "cell_type": "code",
   "execution_count": 30,
   "metadata": {
    "colab": {
     "base_uri": "https://localhost:8080/",
     "height": 262
    },
    "executionInfo": {
     "elapsed": 149943,
     "status": "ok",
     "timestamp": 1608040600234,
     "user": {
      "displayName": "Marco Toldo",
      "photoUrl": "",
      "userId": "10123192063759507523"
     },
     "user_tz": -60
    },
    "id": "UUtU87dfKM7W",
    "outputId": "9cce5e8d-98b3-45be-e690-1c69fdbc609d"
   },
   "outputs": [
    {
     "data": {
      "image/png": "[encoded data removed]",
      "text/plain": [
       "<Figure size 432x288 with 9 Axes>"
      ]
     },
     "metadata": {},
     "output_type": "display_data"
    }
   ],
   "source": [
    "plot_example_errors(model, test_images, test_labels)"
   ]
  },
  {
   "cell_type": "markdown",
   "metadata": {
    "id": "stWuJVgMKM7W"
   },
   "source": [
    "We can also print and plot the so-called confusion matrix which lets us see more details about the mis-classifications. "
   ]
  },
  {
   "cell_type": "code",
   "execution_count": 31,
   "metadata": {
    "colab": {
     "base_uri": "https://localhost:8080/",
     "height": 503
    },
    "executionInfo": {
     "elapsed": 150435,
     "status": "ok",
     "timestamp": 1608040600736,
     "user": {
      "displayName": "Marco Toldo",
      "photoUrl": "",
      "userId": "10123192063759507523"
     },
     "user_tz": -60
    },
    "id": "CK6eR139KM7W",
    "outputId": "633a3956-f148-42b8-cd3b-bbd65f85126d"
   },
   "outputs": [
    {
     "name": "stdout",
     "output_type": "stream",
     "text": [
      "tf.Tensor(\n",
      "[[862   2   9  13   1   0  97   0  16   0]\n",
      " [  2 982   1  11   1   0   2   0   1   0]\n",
      " [ 22   1 893   9  27   0  44   0   4   0]\n",
      " [ 14   2   7 932  26   0  14   0   5   0]\n",
      " [  0   1  75  14 863   0  44   0   3   0]\n",
      " [  0   0   0   0   0 974   0  22   0   4]\n",
      " [ 86   1  58  28  47   0 766   0  14   0]\n",
      " [  0   0   0   0   0   4   0 986   0  10]\n",
      " [  5   0   0   3   1   4   0   3 984   0]\n",
      " [  1   0   0   0   0   4   0  33   0 962]], shape=(10, 10), dtype=int32)\n"
     ]
    },
    {
     "data": {
      "image/png": "[encoded data removed]",
      "text/plain": [
       "<Figure size 432x288 with 2 Axes>"
      ]
     },
     "metadata": {
      "needs_background": "light"
     },
     "output_type": "display_data"
    }
   ],
   "source": [
    "print_confusion_matrix(model, test_images, test_labels)"
   ]
  },
  {
   "cell_type": "markdown",
   "metadata": {
    "id": "KfQ47WPWKM7W"
   },
   "source": [
    "## Visualization of Weights and Layers\n",
    "In trying to understand why the convolutional neural network can recognize handwritten digits, we will now visualize the weights of the convolutional\n",
    "filters and the resulting output images."
   ]
  },
  {
   "cell_type": "markdown",
   "metadata": {
    "id": "Xs12AW6ZKM7W"
   },
   "source": [
    "## Helper-function for plotting convolutional weights"
   ]
  },
  {
   "cell_type": "code",
   "execution_count": 32,
   "metadata": {
    "executionInfo": {
     "elapsed": 150431,
     "status": "ok",
     "timestamp": 1608040600737,
     "user": {
      "displayName": "Marco Toldo",
      "photoUrl": "",
      "userId": "10123192063759507523"
     },
     "user_tz": -60
    },
    "id": "9x0xtK2cKM7X"
   },
   "outputs": [],
   "source": [
    "def plot_conv_weights(w, input_channel=0):\n",
    "    # Get the lowest and highest values for the weights.\n",
    "    # This is used to correct the colour intensity across\n",
    "    # the images so they can be compared with each other.\n",
    "    w_min = np.min(w)\n",
    "    w_max = np.max(w)\n",
    "    # Number of filters used in the conv. layer.\n",
    "    num_filters = w.shape[3]\n",
    "    # Number of grids to plot.\n",
    "    # Rounded-up, square-root of the number of filters.\n",
    "    num_grids = math.ceil(math.sqrt(num_filters))\n",
    "    # Create figure with a grid of sub-plots.\n",
    "    fig, axes = plt.subplots(num_grids, num_grids, figsize=(13,13))\n",
    "    # Plot all the filter-weights.\n",
    "    for i, ax in enumerate(axes.flat):\n",
    "        # Only plot the valid filter-weights.\n",
    "        if i<num_filters:\n",
    "            # Get the weights for the i'th filter of the input channel.\n",
    "            # See new_conv_layer() for details on the format\n",
    "            # of this 4-dim tensor.\n",
    "            img = w[:, :, input_channel, i]\n",
    "            # Plot image.\n",
    "            ax.imshow(img, vmin=w_min, vmax=w_max,\n",
    "            interpolation='nearest', cmap='seismic')\n",
    "            # Remove ticks from the plot.\n",
    "            ax.set_xticks([])\n",
    "            ax.set_yticks([])\n",
    "    # Ensure the plot is shown correctly with multiple plots\n",
    "    # in a single Notebook cell.\n",
    "    plt.show()"
   ]
  },
  {
   "cell_type": "markdown",
   "metadata": {
    "id": "hBJLFLpkKM7X"
   },
   "source": [
    "## Helper-function for plotting the output of a convolutional layer"
   ]
  },
  {
   "cell_type": "code",
   "execution_count": 33,
   "metadata": {
    "executionInfo": {
     "elapsed": 150429,
     "status": "ok",
     "timestamp": 1608040600737,
     "user": {
      "displayName": "Marco Toldo",
      "photoUrl": "",
      "userId": "10123192063759507523"
     },
     "user_tz": -60
    },
    "id": "eq3JBttRKM7X"
   },
   "outputs": [],
   "source": [
    "def plot_conv_layer(layer='conv1', image=None):\n",
    "    # Calculate and retrieve the output values of the layer\n",
    "    # when inputting that image.\n",
    "    if len(image.shape)==3:\n",
    "        image = np.expand_dims(image,axis=0)\n",
    "    intermediate_model = keras.models.Model(inputs=model.input, outputs=model.get_layer(layer).output)\n",
    "    values = intermediate_model.predict(image)\n",
    "    # Number of filters used in the conv. layer.\n",
    "    num_filters = values.shape[3]\n",
    "    # Number of grids to plot.\n",
    "    # Rounded-up, square-root of the number of filters.\n",
    "    num_grids = math.ceil(math.sqrt(num_filters))\n",
    "    # Create figure with a grid of sub-plots.\n",
    "    fig, axes = plt.subplots(num_grids, num_grids, figsize=(15,15))\n",
    "    # Plot the output images of all the filters.\n",
    "    for i, ax in enumerate(axes.flat):\n",
    "        # Only plot the images for valid filters.\n",
    "        if i<num_filters:\n",
    "            # Get the output image of using the i'th filter.\n",
    "            # See new_conv_layer() for details on the format\n",
    "            # of this 4-dim tensor.\n",
    "            img = values[0, :, :, i]\n",
    "            # Plot image.\n",
    "            ax.imshow(img, interpolation='nearest', cmap='binary')\n",
    "            # Remove ticks from the plot.\n",
    "            ax.set_xticks([])\n",
    "            ax.set_yticks([])\n",
    "    # Ensure the plot is shown correctly with multiple plots\n",
    "    # in a single Notebook cell.\n",
    "    plt.show()"
   ]
  },
  {
   "cell_type": "markdown",
   "metadata": {
    "id": "iEt_UfLWKM7X"
   },
   "source": [
    "## Network Analysis\n",
    "Given a input image, we are going to observe the ouput of the intermediate layers"
   ]
  },
  {
   "cell_type": "markdown",
   "metadata": {
    "id": "a6Wgco47KM7X"
   },
   "source": [
    "## Input image\n",
    "We pick an image from the test set."
   ]
  },
  {
   "cell_type": "code",
   "execution_count": 34,
   "metadata": {
    "colab": {
     "base_uri": "https://localhost:8080/",
     "height": 265
    },
    "executionInfo": {
     "elapsed": 150420,
     "status": "ok",
     "timestamp": 1608040600738,
     "user": {
      "displayName": "Marco Toldo",
      "photoUrl": "",
      "userId": "10123192063759507523"
     },
     "user_tz": -60
    },
    "id": "i5Sf4EsYKM7X",
    "outputId": "f37c6978-1b0f-47c4-e473-ad9bb920e927"
   },
   "outputs": [
    {
     "data": {
      "image/png": "[encoded data removed]",
      "text/plain": [
       "<Figure size 432x288 with 1 Axes>"
      ]
     },
     "metadata": {
      "needs_background": "light"
     },
     "output_type": "display_data"
    }
   ],
   "source": [
    "test_image = test_images[0]\n",
    "\n",
    "plt.imshow(np.squeeze(test_image), interpolation='nearest', cmap='binary')\n",
    "plt.show()"
   ]
  },
  {
   "cell_type": "markdown",
   "metadata": {
    "id": "PEhDBnMnKM7Y"
   },
   "source": [
    "## First Convolutional Layer\n",
    "Now, we plot the filter-weights for the first convolutional layer.\n",
    "\n",
    "Note that positive weights are red and negative weights are blue."
   ]
  },
  {
   "cell_type": "code",
   "execution_count": 35,
   "metadata": {
    "colab": {
     "base_uri": "https://localhost:8080/",
     "height": 755
    },
    "executionInfo": {
     "elapsed": 151728,
     "status": "ok",
     "timestamp": 1608040602056,
     "user": {
      "displayName": "Marco Toldo",
      "photoUrl": "",
      "userId": "10123192063759507523"
     },
     "user_tz": -60
    },
    "id": "jzUbnonvKM7Y",
    "outputId": "150e6c9f-0e96-42e5-bb6e-632ab3d35444"
   },
   "outputs": [
    {
     "data": {
      "image/png": "[encoded data removed]",
      "text/plain": [
       "<Figure size 936x936 with 36 Axes>"
      ]
     },
     "metadata": {
      "needs_background": "light"
     },
     "output_type": "display_data"
    }
   ],
   "source": [
    "# Show weights Conv 1\n",
    "w_conv1, b_conv1 = model.get_layer('conv1').get_weights()\n",
    "plot_conv_weights(w_conv1, input_channel=0)"
   ]
  },
  {
   "cell_type": "markdown",
   "metadata": {
    "id": "h7LXK70-KM7Y"
   },
   "source": [
    "Applying each of these convolutional filters to the first input image gives the following output images, which are then used as input to the second convolutional layer. Note that these images are downsampled to 14x14 pixels which is half the resolution of the original input image."
   ]
  },
  {
   "cell_type": "code",
   "execution_count": 36,
   "metadata": {
    "colab": {
     "base_uri": "https://localhost:8080/",
     "height": 863
    },
    "executionInfo": {
     "elapsed": 153241,
     "status": "ok",
     "timestamp": 1608040603580,
     "user": {
      "displayName": "Marco Toldo",
      "photoUrl": "",
      "userId": "10123192063759507523"
     },
     "user_tz": -60
    },
    "id": "ZcSNoax0KM7Y",
    "outputId": "70ec4cac-2e0d-49d2-f6ec-91529779b827"
   },
   "outputs": [
    {
     "data": {
      "image/png": "[encoded data removed]",
      "text/plain": [
       "<Figure size 1080x1080 with 36 Axes>"
      ]
     },
     "metadata": {
      "needs_background": "light"
     },
     "output_type": "display_data"
    }
   ],
   "source": [
    "# Accepted values for layer are: 'conv1', 'pool1', 'conv2' and 'pool2'\n",
    "plot_conv_layer(layer='conv1', image=test_images[0])"
   ]
  },
  {
   "cell_type": "markdown",
   "metadata": {
    "id": "vd0Oo8tnKM7Y"
   },
   "source": [
    "It is difficult to see from these images what the purpose of the convolutional filters might be. It appears that they have merely created several variations of the input image, as if light was shining from different angles and casting shadows in the image."
   ]
  },
  {
   "cell_type": "markdown",
   "metadata": {
    "id": "156RpRBMKM7Z"
   },
   "source": [
    "## Second Convolutional Layer\n",
    "Now plot the filter-weights for the second convolutional layer.\n",
    "\n",
    "There are 16 output channels from the first conv-layer, which means there are 16 input channels to the second conv-layer. The second conv-layer has a set of filter-weights for each of its input channels. We start by plotting the filter-weigths for the first channel.\n",
    "\n",
    "Note again that positive weights are red and negative weights are blue."
   ]
  },
  {
   "cell_type": "code",
   "execution_count": 37,
   "metadata": {
    "colab": {
     "base_uri": "https://localhost:8080/",
     "height": 755
    },
    "executionInfo": {
     "elapsed": 157848,
     "status": "ok",
     "timestamp": 1608040608196,
     "user": {
      "displayName": "Marco Toldo",
      "photoUrl": "",
      "userId": "10123192063759507523"
     },
     "user_tz": -60
    },
    "id": "iv5JmLn_KM7Z",
    "outputId": "9812c4ac-fdf8-4f0a-a766-4bc75c2441ad"
   },
   "outputs": [
    {
     "data": {
      "image/png": "[encoded data removed]",
      "text/plain": [
       "<Figure size 936x936 with 144 Axes>"
      ]
     },
     "metadata": {
      "needs_background": "light"
     },
     "output_type": "display_data"
    }
   ],
   "source": [
    "# Show weights Conv 2\n",
    "w_conv2, b_conv2 = model.get_layer('conv2').get_weights()\n",
    "plot_conv_weights(w_conv2, input_channel=0)"
   ]
  },
  {
   "cell_type": "markdown",
   "metadata": {
    "id": "isKkqZoXKM7Z"
   },
   "source": [
    "There are 16 input channels to the second convolutional layer, so we can make another 15 plots of filter-weights like this. We just make one more with the filter-weights for the second channel.\n",
    "\n",
    "It can be difficult to understand and keep track of how these filters are applied because of the high dimensionality.\n",
    "\n",
    "Applying these convolutional filters to the images that were ouput from the first conv-layer gives the following images.\n",
    "\n",
    "Note that these are downsampled yet again to 7x7 pixels which is half the resolution of the images from the first conv-layer."
   ]
  },
  {
   "cell_type": "code",
   "execution_count": 38,
   "metadata": {
    "colab": {
     "base_uri": "https://localhost:8080/",
     "height": 863
    },
    "executionInfo": {
     "elapsed": 162971,
     "status": "ok",
     "timestamp": 1608040613329,
     "user": {
      "displayName": "Marco Toldo",
      "photoUrl": "",
      "userId": "10123192063759507523"
     },
     "user_tz": -60
    },
    "id": "mlOuhZdhKM7Z",
    "outputId": "063042a4-e442-44e5-89d2-a79785e059a8"
   },
   "outputs": [
    {
     "data": {
      "image/png": "[encoded data removed]",
      "text/plain": [
       "<Figure size 1080x1080 with 144 Axes>"
      ]
     },
     "metadata": {
      "needs_background": "light"
     },
     "output_type": "display_data"
    }
   ],
   "source": [
    "# Accepted values for layer are: 'conv1', 'pool1', 'conv2' and 'pool2'\n",
    "plot_conv_layer(layer='conv2', image=test_images[0])"
   ]
  },
  {
   "cell_type": "markdown",
   "metadata": {
    "id": "Gy1jW7ePKM7Z"
   },
   "source": [
    "From these images, it looks like the second convolutional layer might detect lines and patterns in the input images, which are less sensitive to local variations in the original input images.\n",
    "\n",
    "These images are then flattened and input to the fully connected layer, but that is not shown here."
   ]
  },
  {
   "cell_type": "markdown",
   "metadata": {
    "id": "JgqTTC4BKM7Z"
   },
   "source": [
    "## Conclusion\n",
    "\n",
    "We have seen how to implement a Convolutional Neural Network recognizing hand-written digits. The Convolutional Network gets a classification accuracy of about 91%."
   ]
  },
  {
   "cell_type": "markdown",
   "metadata": {
    "id": "aBXoMV3sKM7Z"
   },
   "source": [
    "\n",
    "\n",
    "\n",
    "\n",
    "## License (MIT)\n",
    "\n",
    "The tutorial has been adapted for the computer vision course and converted into the Keras framework by Gianluca Agresti.\n",
    "Comments revised by P. Zanuttigh.\n",
    "\n",
    "Based on the work from Magnus Erik Hvass Pedersen.\n",
    "\n",
    "Copyright (c) 2016 by [Magnus Erik Hvass Pedersen](http://www.hvass-labs.org/)\n",
    "\n",
    "Revised P. Zanuttigh\n",
    "\n",
    "Permission is hereby granted, free of charge, to any person obtaining a copy of this software and associated documentation files (the \"Software\"), to deal in the Software without restriction, including without limitation the rights to use, copy, modify, merge, publish, distribute, sublicense, and/or sell copies of the Software, and to permit persons to whom the Software is furnished to do so, subject to the following conditions:\n",
    "\n",
    "The above copyright notice and this permission notice shall be included in all copies or substantial portions of the Software.\n",
    "\n",
    "THE SOFTWARE IS PROVIDED \"AS IS\", WITHOUT WARRANTY OF ANY KIND, EXPRESS OR IMPLIED, INCLUDING BUT NOT LIMITED TO THE WARRANTIES OF MERCHANTABILITY, FITNESS FOR A PARTICULAR PURPOSE AND NONINFRINGEMENT. IN NO EVENT SHALL THE AUTHORS OR COPYRIGHT HOLDERS BE LIABLE FOR ANY CLAIM, DAMAGES OR OTHER LIABILITY, WHETHER IN AN ACTION OF CONTRACT, TORT OR OTHERWISE, ARISING FROM, OUT OF OR IN CONNECTION WITH THE SOFTWARE OR THE USE OR OTHER DEALINGS IN THE SOFTWARE."
   ]
  },
  {
   "cell_type": "code",
   "execution_count": null,
   "metadata": {
    "executionInfo": {
     "elapsed": 162969,
     "status": "ok",
     "timestamp": 1608040613329,
     "user": {
      "displayName": "Marco Toldo",
      "photoUrl": "",
      "userId": "10123192063759507523"
     },
     "user_tz": -60
    },
    "id": "tBforO50KM7a"
   },
   "outputs": [],
   "source": []
  },
  {
   "cell_type": "code",
   "execution_count": null,
   "metadata": {},
   "outputs": [],
   "source": []
  }
 ],
 "metadata": {
  "accelerator": "GPU",
  "anaconda-cloud": {},
  "colab": {
   "collapsed_sections": [],
   "name": "CNN_tutorial_solution_2020.ipynb",
   "provenance": []
  },
  "kernelspec": {
   "display_name": "Python 3",
   "language": "python",
   "name": "python3"
  },
  "language_info": {
   "codemirror_mode": {
    "name": "ipython",
    "version": 3
   },
   "file_extension": ".py",
   "mimetype": "text/x-python",
   "name": "python",
   "nbconvert_exporter": "python",
   "pygments_lexer": "ipython3",
   "version": "3.9.5"
  }
 },
 "nbformat": 4,
 "nbformat_minor": 4
}
